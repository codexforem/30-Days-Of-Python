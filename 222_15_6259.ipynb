{
  "nbformat": 4,
  "nbformat_minor": 0,
  "metadata": {
    "colab": {
      "provenance": [],
      "authorship_tag": "ABX9TyNwPY0kYFx2MC7FUCbhYAqB",
      "include_colab_link": true
    },
    "kernelspec": {
      "name": "python3",
      "display_name": "Python 3"
    },
    "language_info": {
      "name": "python"
    }
  },
  "cells": [
    {
      "cell_type": "markdown",
      "metadata": {
        "id": "view-in-github",
        "colab_type": "text"
      },
      "source": [
        "<a href=\"https://colab.research.google.com/github/codexforem/30-Days-Of-Python/blob/master/222_15_6259.ipynb\" target=\"_parent\"><img src=\"https://colab.research.google.com/assets/colab-badge.svg\" alt=\"Open In Colab\"/></a>"
      ]
    },
    {
      "cell_type": "markdown",
      "source": [
        "\n",
        "# Even indices\n",
        "### Given a list of numbers, find and print all the list elements with an even index number. (i.e. A[0], A[2], A[4], ...)."
      ],
      "metadata": {
        "id": "xIgcYetcoRh7"
      }
    },
    {
      "cell_type": "code",
      "source": [
        "from typing import List\n",
        "def solve(lst:List)->None:\n",
        "  for i in range(0, len(list1), 2):\n",
        "    print(list1[i])\n",
        "\n",
        "list1=[int(x) for x in input().split()]\n",
        "solve(list1)\n",
        "\n"
      ],
      "metadata": {
        "colab": {
          "base_uri": "https://localhost:8080/"
        },
        "id": "Z-fISU_sornX",
        "outputId": "d3ba468b-4a91-4635-c097-a3cfdd303a01"
      },
      "execution_count": null,
      "outputs": [
        {
          "output_type": "stream",
          "name": "stdout",
          "text": [
            "1 3 4 5 6 7\n",
            "1\n",
            "4\n",
            "6\n"
          ]
        }
      ]
    },
    {
      "cell_type": "markdown",
      "source": [
        "# Even elements\n",
        "### Given a list of numbers, find and print all elements that are an even number. In this case use a for-loop that iterates over the list, and not over its indices! That is, don't use range()"
      ],
      "metadata": {
        "id": "j5RiLDVjuNwQ"
      }
    },
    {
      "cell_type": "code",
      "source": [
        "from typing import List\n",
        "class Solve:\n",
        "  def findeven(list1:List)->None:\n",
        "    for x in list1:\n",
        "      if x%2==0:\n",
        "        print(x)\n",
        "\n",
        "list1=[int(x) for x in input().split()]\n",
        "Solve.findeven(list1)"
      ],
      "metadata": {
        "colab": {
          "base_uri": "https://localhost:8080/"
        },
        "id": "F_1-r1lSuT-t",
        "outputId": "938bfa7e-3698-4163-a2d0-29f2cc2ddb91"
      },
      "execution_count": null,
      "outputs": [
        {
          "output_type": "stream",
          "name": "stdout",
          "text": [
            "1 2 3 4 5 6\n",
            "2\n",
            "4\n",
            "6\n"
          ]
        }
      ]
    },
    {
      "cell_type": "markdown",
      "source": [
        "# Greater than previous\n",
        "\n",
        "### Given a list of numbers, find and print all the elements that are greater than the previous element."
      ],
      "metadata": {
        "id": "epJYG87UwOXD"
      }
    },
    {
      "cell_type": "code",
      "source": [
        "from typing import List\n",
        "class Solve:\n",
        "  def find_previous_grater(list1:List)->None:\n",
        "    for i in range(0,len(list1)-1):\n",
        "      if list1[i]<list1[i+1]:\n",
        "        print(list1[i+1])\n",
        "\n",
        "list1=[int(x) for x in input().split()]\n",
        "\n",
        "Solve.find_previous_grater(list1)"
      ],
      "metadata": {
        "colab": {
          "base_uri": "https://localhost:8080/"
        },
        "id": "mhOl2dkGwQWv",
        "outputId": "4699294a-d8d2-442f-8cda-00ceefa99707"
      },
      "execution_count": null,
      "outputs": [
        {
          "output_type": "stream",
          "name": "stdout",
          "text": [
            "1 2 3 4 5 6\n",
            "2\n",
            "3\n",
            "4\n",
            "5\n",
            "6\n"
          ]
        }
      ]
    },
    {
      "cell_type": "markdown",
      "source": [
        "# Neighbors of the same sign\n",
        "### Given a list of numbers, find and print the first adjacent elements which have the same sign. If there is no such pair, leave the output blank."
      ],
      "metadata": {
        "id": "I0lCfFnXyzhs"
      }
    },
    {
      "cell_type": "code",
      "source": [
        "class Solve:\n",
        "  def find_first_same_sign(data_list:List)->None:\n",
        "    for i in range(1, len(data_list)):\n",
        "      if (data_list[i] * data_list[i-1] >= 0):\n",
        "        print(data_list[i-1], data_list[i])\n",
        "        return\n",
        "\n",
        "    print()\n",
        "\n",
        "\n",
        "\n",
        "data_list=[int(x) for x in input().split()]\n",
        "\n",
        "Solve.find_first_same_sign(data_list)\n",
        "\n",
        "\n",
        "\n",
        "\n"
      ],
      "metadata": {
        "colab": {
          "base_uri": "https://localhost:8080/"
        },
        "id": "01Ue5kNIy3Ax",
        "outputId": "47fef428-f3d5-48d1-96ef-2232e903ee3b"
      },
      "execution_count": null,
      "outputs": [
        {
          "output_type": "stream",
          "name": "stdout",
          "text": [
            "1 -1 1 -1 -1 1 -1 1 -1 1\n",
            "-1 -1\n"
          ]
        }
      ]
    },
    {
      "cell_type": "markdown",
      "source": [
        "# Greater than neighbours\n",
        "\n",
        "### Given a list of numbers, determine and print the quantity of elements that are greater than both of their neighbors.\n",
        "### The first and the last items of the list shouldn't be considered because they don't have two neighbors."
      ],
      "metadata": {
        "id": "Xz5MFLRyr_tI"
      }
    },
    {
      "cell_type": "code",
      "source": [
        "from typing import List\n",
        "class Solve:\n",
        "  def count_greater_neighbors(data_list:List)->int:\n",
        "     count = 0\n",
        "     for i in range(1, len(data_list) - 1):\n",
        "        if data_list[i] > data_list[i-1] and data_list[i] > data_list[i+1]:\n",
        "          count += 1\n",
        "     return count\n",
        "\n",
        "data_list=[int(x) for x in input().split()]\n",
        "\n",
        "x=Solve.count_greater_neighbors(data_list)\n",
        "print(x)\n"
      ],
      "metadata": {
        "colab": {
          "base_uri": "https://localhost:8080/"
        },
        "id": "Voh6YICrvhxB",
        "outputId": "c9e25e22-5740-4c62-e54b-1ea9a24c5626"
      },
      "execution_count": null,
      "outputs": [
        {
          "name": "stdout",
          "output_type": "stream",
          "text": [
            "1 2 3 4 5\n"
          ]
        },
        {
          "output_type": "execute_result",
          "data": {
            "text/plain": [
              "0"
            ]
          },
          "metadata": {},
          "execution_count": 3
        }
      ]
    },
    {
      "cell_type": "markdown",
      "source": [
        "# The largest element\n",
        "### Given a list of numbers. Determine the element in the list with the largest value. Print the value of the largest element and then the index number. If the highest element is not unique, print the index of the first instance."
      ],
      "metadata": {
        "id": "iWjMV5y7yK6H"
      }
    },
    {
      "cell_type": "code",
      "source": [
        "from typing import List\n",
        "class Solve:\n",
        "  def find_large_and_position(data_list:List)->None:\n",
        "    maximum=0\n",
        "    for i,value in enumerate(data_list):\n",
        "        if value>maximum:\n",
        "            maximum=value\n",
        "            index=i\n",
        "    print(maximum)\n",
        "    print(index)\n",
        "\n",
        "data_list=[int(x) for x in input().split()]\n",
        "\n",
        "Solve.find_large_and_position(data_list)\n"
      ],
      "metadata": {
        "colab": {
          "base_uri": "https://localhost:8080/"
        },
        "id": "wXSyMVucyNgR",
        "outputId": "6bccd8c2-3ab4-4352-dc85-021824cf3fa2"
      },
      "execution_count": null,
      "outputs": [
        {
          "output_type": "stream",
          "name": "stdout",
          "text": [
            "1 2 3 2 1\n",
            "3\n",
            "2\n"
          ]
        }
      ]
    },
    {
      "cell_type": "markdown",
      "source": [
        "# The number of distinct elements\n",
        "### Given a list of numbers with all of its elements sorted in ascending order, determine and print the quantity of distinct elements in it."
      ],
      "metadata": {
        "id": "ty3LQ4uw2Hmf"
      }
    },
    {
      "cell_type": "code",
      "source": [
        "class Solve:\n",
        "  def count_distinct_sorted(data_list):\n",
        "    if not data_list:\n",
        "      return 0\n",
        "\n",
        "    count = 1\n",
        "    for i in range(1, len(data_list)):\n",
        "      if data_list[i] != data_list[i-1]:\n",
        "        count += 1\n",
        "\n",
        "    print(count)\n",
        "\n",
        "data_list=[int(x) for x in input().split()]\n",
        "\n",
        "Solve.count_distinct_sorted(data_list)\n"
      ],
      "metadata": {
        "colab": {
          "base_uri": "https://localhost:8080/"
        },
        "id": "PGIahllI2OcX",
        "outputId": "4a737ebc-3109-4f82-a6a4-1b0d70685ef0"
      },
      "execution_count": null,
      "outputs": [
        {
          "output_type": "stream",
          "name": "stdout",
          "text": [
            "1 2 2 3 3 3\n",
            "3\n"
          ]
        }
      ]
    },
    {
      "cell_type": "markdown",
      "source": [
        "# Swap neighbours\n",
        "\n",
        "### Given a list of numbers, swap adjacent items in pairs (A[0] with A[1], A[2] with A[3], etc.). Print the resulting list. If a list has an odd number of elements, leave the last element in place."
      ],
      "metadata": {
        "id": "8FBs9wEL3E7n"
      }
    },
    {
      "cell_type": "code",
      "source": [
        "from typing import List\n",
        "class Solve:\n",
        "  def swap_adjacent_pairs(data_list: List) -> None:\n",
        "\n",
        "\n",
        "    for i in range(0, len(data_list) - 1, 2):\n",
        "      data_list[i], data_list[i + 1] = data_list[i + 1], data_list[i]\n",
        "\n",
        "    print(*data_list)\n",
        "\n",
        "\n",
        "data_list=[int(x) for x in input().split()]\n",
        "\n",
        "Solve.swap_adjacent_pairs(data_list)\n"
      ],
      "metadata": {
        "colab": {
          "base_uri": "https://localhost:8080/"
        },
        "id": "zJMsboMV3G7L",
        "outputId": "61894201-4efd-4595-bd07-fcddae4d11ba"
      },
      "execution_count": null,
      "outputs": [
        {
          "output_type": "stream",
          "name": "stdout",
          "text": [
            "1 2 3 4 5\n",
            "2 1 4 3 5\n"
          ]
        }
      ]
    },
    {
      "cell_type": "markdown",
      "source": [
        "# Swap min and max\n",
        "### Given a list of unique numbers, swap the minimal and maximal elements of this list. Print the resulting list."
      ],
      "metadata": {
        "id": "9Bxi-hwp3zsa"
      }
    },
    {
      "cell_type": "code",
      "source": [
        "from typing import List\n",
        "\n",
        "class Solve:\n",
        "  def swap_min_max(data_list: List) -> None:\n",
        "    min_index = 0\n",
        "    max_index = 0\n",
        "\n",
        "    for i in range(1, len(data_list)):\n",
        "      if data_list[i] < data_list[min_index]:\n",
        "        min_index = i\n",
        "\n",
        "    for i in range(1, len(data_list)):\n",
        "      if data_list[i] > data_list[max_index]:\n",
        "        max_index = i\n",
        "\n",
        "    data_list[min_index], data_list[max_index] = data_list[max_index], data_list[min_index]\n",
        "\n",
        "    print(*data_list)\n",
        "\n",
        "\n",
        "data_list=[int(x) for x in input().split()]\n",
        "\n",
        "Solve.swap_min_max(data_list)\n",
        "\n"
      ],
      "metadata": {
        "colab": {
          "base_uri": "https://localhost:8080/"
        },
        "id": "90ddrvuI31nr",
        "outputId": "039681b3-9a9b-43b6-ee83-76949e3dc263"
      },
      "execution_count": null,
      "outputs": [
        {
          "output_type": "stream",
          "name": "stdout",
          "text": [
            "3 4 5 2 1\n",
            "3 4 1 2 5\n"
          ]
        }
      ]
    },
    {
      "cell_type": "markdown",
      "source": [
        "# The number of pairs of equal\n",
        "\n",
        "### Given a list of numbers, count how many element pairs have the same value (are equal). Any two elements that are equal to each other should be counted exactly once\n"
      ],
      "metadata": {
        "id": "ypCwckgG4W4E"
      }
    },
    {
      "cell_type": "code",
      "source": [
        "from typing import List\n",
        "class Solve:\n",
        "  def count_equal_pairs(data_list: List) -> None:\n",
        "    count = 0\n",
        "    for i in range(len(data_list)):\n",
        "      for j in range(i + 1, len(data_list)):\n",
        "        if data_list[i] == data_list[j]:\n",
        "          count += 1\n",
        "\n",
        "    print(count)\n",
        "\n",
        "\n",
        "data_list=[int(x) for x in input().split()]\n",
        "\n",
        "Solve.count_equal_pairs(data_list)\n",
        "\n"
      ],
      "metadata": {
        "colab": {
          "base_uri": "https://localhost:8080/"
        },
        "id": "WKJVOlYM4b8q",
        "outputId": "d065183f-9d84-4223-d651-8e053987fe4f"
      },
      "execution_count": null,
      "outputs": [
        {
          "output_type": "stream",
          "name": "stdout",
          "text": [
            "1 2 3 2 3\n",
            "2\n"
          ]
        }
      ]
    },
    {
      "cell_type": "markdown",
      "source": [
        "# Unique elements\n",
        "### Given a list of numbers, find and print the elements that appear in the list only once. The elements must be printed in the order in which they occur in the original list."
      ],
      "metadata": {
        "id": "N-_ou6JM48zW"
      }
    },
    {
      "cell_type": "code",
      "source": [
        "from typing import List\n",
        "class Solve:\n",
        "  def find_unique(data_list: List) -> None:\n",
        "     element_counts = {}\n",
        "     for element in data_list:\n",
        "       if element in element_counts:\n",
        "         element_counts[element] += 1\n",
        "       else:\n",
        "         element_counts[element] = 1\n",
        "\n",
        "\n",
        "     for element in data_list:\n",
        "       if element_counts[element] == 1:\n",
        "          print(element, end=\" \")\n",
        "\n",
        "\n",
        "data_list=[int(x) for x in input().split()]\n",
        "\n",
        "Solve.find_unique(data_list)\n",
        "\n"
      ],
      "metadata": {
        "colab": {
          "base_uri": "https://localhost:8080/"
        },
        "id": "bOAyiZDQ5GGz",
        "outputId": "47c5f4d6-8b57-45ad-bbda-a9af06fa4b1b"
      },
      "execution_count": null,
      "outputs": [
        {
          "output_type": "stream",
          "name": "stdout",
          "text": [
            "1 2 2 3 3 3\n",
            "1 "
          ]
        }
      ]
    },
    {
      "cell_type": "markdown",
      "source": [
        "# Queens\n",
        "### In chess it is known that it is possible to place 8 queens on an 8×8 chess board such that none of them can attack another. Given a placement of 8 queens on the board, determine if there is a pair of queens that can attach each other on the next move. Print the word NO if no queen can attack another, otherwise print YES. The input consists of eight coordinate pairs, one pair per line, with each pair giving the position of a queen on a standard chess board with rows and columns numbered starting at 1."
      ],
      "metadata": {
        "id": "a3wR_jcf_rwL"
      }
    },
    {
      "cell_type": "code",
      "source": [
        "class Solve:\n",
        "\n",
        "  def queens_attack(placements):\n",
        "\n",
        "\n",
        "\n",
        "    for current_queen_index in range(len(placements)):\n",
        "      current_queen_row, current_queen_col = placements[current_queen_index]\n",
        "      for other_queen_index in range(current_queen_index + 1, len(placements)):\n",
        "        other_queen_row, other_queen_col = placements[other_queen_index]\n",
        "        if current_queen_row == other_queen_row or current_queen_col == other_queen_col:\n",
        "          return \"YES\"\n",
        "\n",
        "    for current_queen_index in range(len(placements)):\n",
        "      current_queen_row, current_queen_col = placements[current_queen_index]\n",
        "      for other_queen_index in range(current_queen_index + 1, len(placements)):\n",
        "        other_queen_row, other_queen_col = placements[other_queen_index]\n",
        "        if abs(current_queen_row - other_queen_row) == abs(current_queen_col - other_queen_col):\n",
        "          return \"YES\"\n",
        "\n",
        "\n",
        "    return \"NO\"\n",
        "\n",
        "  def get_queen_placements():\n",
        "    placements = []\n",
        "    for queen_number in range(1, 9):\n",
        "      while True:\n",
        "        try:\n",
        "          row_str, col_str = input(queen_number).split()\n",
        "          row = int(row_str)\n",
        "          col = int(col_str)\n",
        "          if 1 <= row <= 8 and 1 <= col <= 8:\n",
        "            placements.append((row, col))\n",
        "            break\n",
        "          else:\n",
        "            print()\n",
        "        except ValueError:\n",
        "          print()\n",
        "\n",
        "    return placements\n",
        "\n",
        "placements = Solve.get_queen_placements()\n",
        "\n",
        "result =Solve.queens_attack(placements)\n",
        "print(result)"
      ],
      "metadata": {
        "id": "F1JRWWP-NK3Z"
      },
      "execution_count": null,
      "outputs": []
    },
    {
      "cell_type": "markdown",
      "source": [
        "1 7 <br>\n",
        "2 4<br>\n",
        "3 2<br>\n",
        "4 8<br>\n",
        "5 6<br>\n",
        "6 1<br>\n",
        "7 3<br>\n",
        "8 5"
      ],
      "metadata": {
        "id": "BGrR7OgnQTQe"
      }
    },
    {
      "cell_type": "markdown",
      "source": [
        "NO"
      ],
      "metadata": {
        "id": "6V4mFLNgQkUb"
      }
    },
    {
      "cell_type": "markdown",
      "source": [
        "# The bowling alley\n",
        "\n",
        "### In bowling, the player starts wtih 10 pins at the far end of a lane. The object is to knock all the pins down. For this exercise, the number of pins and balls will vary. Given the number of pins N and then the number of balls K to be rolled, followed by K pairs of numbers (one for each ball rolled), determine which pins remain standing after all the balls have been rolled. The balls are numbered from 1 to N (inclusive) for this situation. The subsequent number pairs, one for each K represent the start to stop (inclusive) positions of the pins that were knocked down with each role. Print a sequence of N characters, where \"I\" represents a pin left standing and \".\" represents a pin knocked down."
      ],
      "metadata": {
        "id": "yaPGurQcFxRp"
      }
    },
    {
      "cell_type": "code",
      "source": [
        "class Solve:\n",
        "  def bowling(num_pins, num_balls, throws):\n",
        "\n",
        "    pins = [\"I\"] * num_pins\n",
        "\n",
        "    for ball_num, (start, stop) in enumerate(throws, 1):\n",
        "\n",
        "      for pin in range(start - 1, stop):\n",
        "        pins[pin] = \".\"\n",
        "\n",
        "    print(''.join(pins))\n",
        "\n",
        "\n",
        "\n",
        "\n",
        "num_pins,num_balls= input().split()\n",
        "num_pins=int(num_pins)\n",
        "num_balls=int(num_balls)\n",
        "\n",
        "throws = []\n",
        "for _ in range(num_balls):\n",
        "  start, stop = map(int, input().split())\n",
        "  throws.append((start, stop))\n",
        "\n",
        "Solve.bowling(num_pins, num_balls, throws)"
      ],
      "metadata": {
        "id": "7Aad5l_sM7Pe"
      },
      "execution_count": null,
      "outputs": []
    },
    {
      "cell_type": "markdown",
      "source": [
        "10 3<br>\n",
        "8 10<br>\n",
        "2 5<br>\n",
        "3 6"
      ],
      "metadata": {
        "id": "el3jeLJIQtqJ"
      }
    },
    {
      "cell_type": "markdown",
      "source": [
        "I.....I..."
      ],
      "metadata": {
        "id": "FOMA9xsTQ4YE"
      }
    }
  ]
}